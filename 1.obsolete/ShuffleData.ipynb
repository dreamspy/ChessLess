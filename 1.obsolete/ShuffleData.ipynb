{
 "cells": [
  {
   "cell_type": "code",
   "execution_count": 3,
   "metadata": {},
   "outputs": [
    {
     "name": "stdout",
     "output_type": "stream",
     "text": [
      "done\n"
     ]
    }
   ],
   "source": [
    "import random\n",
    "\n",
    "random.seed(1337)\n",
    "\n",
    "lines = []\n",
    "with open('allData.data','r') as dat:\n",
    "    lines = dat.readlines()\n",
    "random.shuffle(lines)\n",
    "shuf = open('allData.shuffled.data','w')\n",
    "shuf.writelines(lines)\n",
    "print('done')"
   ]
  },
  {
   "cell_type": "code",
   "execution_count": 7,
   "metadata": {},
   "outputs": [
    {
     "name": "stdout",
     "output_type": "stream",
     "text": [
      "r11q1rk1/pb111ppp/1p1p1111/11pPbN11/1111P111/111QB111/P1111PPP/1R11R1K1 w - c6 0 17:0.28\n",
      "\n",
      "r111k11r/1bq11ppp/11nb1n11/p1p1pP11/PpN1P111/1P111N11/11P111PP/R1BBQR1K b kq a3 0 16:0.71\n",
      "\n"
     ]
    }
   ],
   "source": [
    "with open('allData.shuffled.data','r') as dat:\n",
    "    lines = dat.readlines()\n",
    "    print(lines[624])\n",
    "    print(lines[15325])"
   ]
  },
  {
   "cell_type": "code",
   "execution_count": null,
   "metadata": {},
   "outputs": [],
   "source": []
  }
 ],
 "metadata": {
  "kernelspec": {
   "display_name": "Python 3",
   "language": "python",
   "name": "python3"
  },
  "language_info": {
   "codemirror_mode": {
    "name": "ipython",
    "version": 3
   },
   "file_extension": ".py",
   "mimetype": "text/x-python",
   "name": "python",
   "nbconvert_exporter": "python",
   "pygments_lexer": "ipython3",
   "version": "3.5.2"
  }
 },
 "nbformat": 4,
 "nbformat_minor": 2
}
